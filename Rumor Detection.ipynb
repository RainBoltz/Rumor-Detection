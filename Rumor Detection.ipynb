{
 "cells": [
  {
   "cell_type": "markdown",
   "metadata": {},
   "source": [
    "# Rumor Detection"
   ]
  },
  {
   "cell_type": "markdown",
   "metadata": {},
   "source": [
    "requirements: `scikit-learn`, `nltk`, `pandas`, `matplotlib`, `numpy`"
   ]
  },
  {
   "cell_type": "markdown",
   "metadata": {},
   "source": [
    "## Prepare the dataset"
   ]
  },
  {
   "cell_type": "markdown",
   "metadata": {},
   "source": [
    "dataset is extracted from twitter."
   ]
  },
  {
   "cell_type": "code",
   "execution_count": 1,
   "metadata": {
    "scrolled": true
   },
   "outputs": [],
   "source": [
    "import pandas as pd\n",
    "from sklearn.model_selection import train_test_split\n",
    "\n",
    "def get_dataset(xpath=\"source_tweets.txt\", ypath=\"label.txt\"):\n",
    "    raw_data = {'label':[], 'id':[]}\n",
    "    with open(ypath, 'r') as f:\n",
    "        tmp = f.readlines()\n",
    "        for _t in tmp:\n",
    "            L, I = _t.split(':')\n",
    "            raw_data['label'].append(L.strip())\n",
    "            raw_data['id'].append(I.strip())\n",
    "    raw_data = pd.DataFrame({'label':raw_data['label']}, index=raw_data['id'])\n",
    "    \n",
    "    raw_data['text'] = ''\n",
    "    with open(xpath, 'r', encoding='utf-8') as f:\n",
    "        tmp = f.readlines()\n",
    "        for _t in tmp:\n",
    "            I, T = _t.split('\\t')\n",
    "            raw_data['text'].loc[I.strip()] = T.strip()\n",
    "            \n",
    "    #將 unverified、true、false 視為同一類\n",
    "    raw_data['label'] = raw_data['label'].apply(lambda x: 0 if 'non' in x else 1)\n",
    "    \n",
    "    X_train, X_test, y_train, y_test = train_test_split(raw_data['text'], raw_data['label'], test_size=0.25, random_state=666)\n",
    "        \n",
    "    return X_train, X_test, y_train, y_test\n",
    "\n",
    "\n",
    "X_train, X_test, y_train, y_test = get_dataset()"
   ]
  },
  {
   "cell_type": "markdown",
   "metadata": {},
   "source": [
    "## Feature Engineering & Feature Extraction"
   ]
  },
  {
   "cell_type": "markdown",
   "metadata": {},
   "source": [
    "Feature Engineering Methods:\n",
    "  1. drop non-english and emoji characters (ascii code > 127)\n",
    "  2. escape stop words (NLTK stopwords corpus)\n",
    "  3. Maximum Absolute Scaler Transforming after vectorized"
   ]
  },
  {
   "cell_type": "code",
   "execution_count": 2,
   "metadata": {},
   "outputs": [],
   "source": [
    "def clean(x):\n",
    "    drop_list = []\n",
    "    for i,_x in enumerate(x):\n",
    "        if ord(_x) >= 128:\n",
    "            drop_list.append(i)\n",
    "    new_x = []\n",
    "    for i,_x in enumerate(x):\n",
    "        if i not in drop_list:\n",
    "            new_x.append(_x)\n",
    "    return ''.join(new_x)\n",
    "\n",
    "X_train = X_train.apply(clean)\n",
    "X_test = X_test.apply(clean)"
   ]
  },
  {
   "cell_type": "markdown",
   "metadata": {},
   "source": [
    "Feature Extraction Method: TF-IDF Vectorize"
   ]
  },
  {
   "cell_type": "code",
   "execution_count": 3,
   "metadata": {},
   "outputs": [
    {
     "name": "stderr",
     "output_type": "stream",
     "text": [
      "[nltk_data] Downloading package stopwords to\n",
      "[nltk_data]     C:\\Users\\RainBoltz\\AppData\\Roaming\\nltk_data...\n",
      "[nltk_data]   Package stopwords is already up-to-date!\n"
     ]
    }
   ],
   "source": [
    "from sklearn.feature_extraction.text import TfidfVectorizer\n",
    "from sklearn.preprocessing import MaxAbsScaler\n",
    "from nltk.corpus import stopwords\n",
    "import nltk\n",
    "nltk.download('stopwords')\n",
    "\n",
    "vector_transformer = TfidfVectorizer(stop_words=list(stopwords.words('english')), lowercase=True)\n",
    "training_vector = vector_transformer.fit_transform(X_train)\n",
    "testing_vector = vector_transformer.transform(X_test)\n",
    "\n",
    "scaler_transformer = MaxAbsScaler()\n",
    "training_vector = scaler_transformer.fit_transform(training_vector)\n",
    "testing_vector = scaler_transformer.transform(testing_vector)"
   ]
  },
  {
   "cell_type": "markdown",
   "metadata": {},
   "source": [
    "## Train a model"
   ]
  },
  {
   "cell_type": "code",
   "execution_count": 4,
   "metadata": {},
   "outputs": [
    {
     "name": "stderr",
     "output_type": "stream",
     "text": [
      "c:\\users\\rainboltz\\appdata\\local\\programs\\python\\python36\\lib\\site-packages\\sklearn\\linear_model\\logistic.py:432: FutureWarning: Default solver will be changed to 'lbfgs' in 0.22. Specify a solver to silence this warning.\n",
      "  FutureWarning)\n"
     ]
    },
    {
     "data": {
      "text/plain": [
       "LogisticRegression(C=1.0, class_weight=None, dual=False, fit_intercept=True,\n",
       "                   intercept_scaling=1, l1_ratio=None, max_iter=100,\n",
       "                   multi_class='warn', n_jobs=None, penalty='l2',\n",
       "                   random_state=None, solver='warn', tol=0.0001, verbose=0,\n",
       "                   warm_start=False)"
      ]
     },
     "execution_count": 4,
     "metadata": {},
     "output_type": "execute_result"
    }
   ],
   "source": [
    "from sklearn.linear_model import LogisticRegression\n",
    "\n",
    "clf = LogisticRegression()\n",
    "clf.fit(training_vector, y_train)"
   ]
  },
  {
   "cell_type": "markdown",
   "metadata": {},
   "source": [
    "## Test the model"
   ]
  },
  {
   "cell_type": "code",
   "execution_count": 5,
   "metadata": {},
   "outputs": [
    {
     "name": "stdout",
     "output_type": "stream",
     "text": [
      "              precision    recall  f1-score   support\n",
      "\n",
      "           0       0.87      0.52      0.65       100\n",
      "           1       0.85      0.97      0.90       273\n",
      "\n",
      "    accuracy                           0.85       373\n",
      "   macro avg       0.86      0.75      0.78       373\n",
      "weighted avg       0.85      0.85      0.84       373\n",
      "\n"
     ]
    }
   ],
   "source": [
    "from sklearn.metrics import classification_report\n",
    "\n",
    "pred = clf.predict(testing_vector)\n",
    "print(classification_report(y_test, pred))"
   ]
  },
  {
   "cell_type": "code",
   "execution_count": 8,
   "metadata": {},
   "outputs": [
    {
     "name": "stdout",
     "output_type": "stream",
     "text": [
      "Decision Tree\n",
      "              precision    recall  f1-score   support\n",
      "\n",
      "           0       0.73      0.44      0.55       100\n",
      "           1       0.82      0.94      0.88       273\n",
      "\n",
      "    accuracy                           0.81       373\n",
      "   macro avg       0.78      0.69      0.71       373\n",
      "weighted avg       0.80      0.81      0.79       373\n",
      "\n",
      "\n",
      "\n",
      "\n",
      "Random Forest\n",
      "              precision    recall  f1-score   support\n",
      "\n",
      "           0       1.00      0.24      0.39       100\n",
      "           1       0.78      1.00      0.88       273\n",
      "\n",
      "    accuracy                           0.80       373\n",
      "   macro avg       0.89      0.62      0.63       373\n",
      "weighted avg       0.84      0.80      0.75       373\n",
      "\n",
      "\n",
      "\n",
      "\n",
      "Neural Net\n",
      "              precision    recall  f1-score   support\n",
      "\n",
      "           0       0.74      0.58      0.65       100\n",
      "           1       0.86      0.93      0.89       273\n",
      "\n",
      "    accuracy                           0.83       373\n",
      "   macro avg       0.80      0.75      0.77       373\n",
      "weighted avg       0.83      0.83      0.83       373\n",
      "\n",
      "\n",
      "\n",
      "\n",
      "AdaBoost\n",
      "              precision    recall  f1-score   support\n",
      "\n",
      "           0       0.66      0.67      0.66       100\n",
      "           1       0.88      0.87      0.87       273\n",
      "\n",
      "    accuracy                           0.82       373\n",
      "   macro avg       0.77      0.77      0.77       373\n",
      "weighted avg       0.82      0.82      0.82       373\n",
      "\n",
      "\n",
      "\n",
      "\n",
      "Logistic Regression\n",
      "              precision    recall  f1-score   support\n",
      "\n",
      "           0       0.87      0.52      0.65       100\n",
      "           1       0.85      0.97      0.90       273\n",
      "\n",
      "    accuracy                           0.85       373\n",
      "   macro avg       0.86      0.75      0.78       373\n",
      "weighted avg       0.85      0.85      0.84       373\n",
      "\n",
      "\n",
      "\n",
      "\n",
      "SVM Classifier\n",
      "              precision    recall  f1-score   support\n",
      "\n",
      "           0       1.00      0.14      0.25       100\n",
      "           1       0.76      1.00      0.86       273\n",
      "\n",
      "    accuracy                           0.77       373\n",
      "   macro avg       0.88      0.57      0.55       373\n",
      "weighted avg       0.82      0.77      0.70       373\n",
      "\n",
      "\n",
      "\n",
      "\n"
     ]
    }
   ],
   "source": [
    "import numpy as np\n",
    "import matplotlib.pyplot as plt\n",
    "from tqdm import tqdm\n",
    "from sklearn.neural_network import MLPClassifier\n",
    "from sklearn.svm import SVC\n",
    "from sklearn.tree import DecisionTreeClassifier\n",
    "from sklearn.ensemble import RandomForestClassifier, AdaBoostClassifier\n",
    "from sklearn.linear_model import LogisticRegression\n",
    "\n",
    "names = [\"Decision Tree\", \"Random Forest\", \"Neural Net\", \"AdaBoost\",'Logistic Regression', 'SVM Classifier']\n",
    "\n",
    "classifiers = [\n",
    "    DecisionTreeClassifier(),\n",
    "    RandomForestClassifier(n_estimators=1000),\n",
    "    MLPClassifier(),\n",
    "    AdaBoostClassifier(),\n",
    "    LogisticRegression(solver='lbfgs'),\n",
    "    SVC(gamma='scale')\n",
    "]\n",
    "\n",
    "for i,clf in enumerate(classifiers):\n",
    "    clf.fit(training_vector, y_train)\n",
    "    pred = clf.predict(testing_vector)\n",
    "    print(names[i])\n",
    "    print(classification_report(y_test, pred))\n",
    "    print('\\n\\n')"
   ]
  },
  {
   "cell_type": "code",
   "execution_count": null,
   "metadata": {},
   "outputs": [],
   "source": []
  }
 ],
 "metadata": {
  "kernelspec": {
   "display_name": "Python 3",
   "language": "python",
   "name": "python3"
  },
  "language_info": {
   "codemirror_mode": {
    "name": "ipython",
    "version": 3
   },
   "file_extension": ".py",
   "mimetype": "text/x-python",
   "name": "python",
   "nbconvert_exporter": "python",
   "pygments_lexer": "ipython3",
   "version": "3.6.5"
  }
 },
 "nbformat": 4,
 "nbformat_minor": 2
}
